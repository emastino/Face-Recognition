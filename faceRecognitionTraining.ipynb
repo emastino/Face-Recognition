{
 "cells": [
  {
   "cell_type": "code",
   "execution_count": 19,
   "metadata": {},
   "outputs": [],
   "source": [
    "import os\n",
    "import cv2\n",
    "import pickle\n",
    "import numpy as np\n",
    "from PIL import Image\n"
   ]
  },
  {
   "cell_type": "code",
   "execution_count": 20,
   "metadata": {},
   "outputs": [],
   "source": [
    "# get name for currect working directory \n",
    "cwd = os.getcwd()\n",
    "# print(cwd)\n",
    "\n",
    "# put training data in working directory \n",
    "# name \"Images\" (where I keep training faces) cwd\\Images\n",
    "img_dir = os.path.join(cwd,\"Images\")\n",
    "# print(img_dir)"
   ]
  },
  {
   "cell_type": "code",
   "execution_count": 21,
   "metadata": {},
   "outputs": [],
   "source": [
    "face_cascade = cv2.CascadeClassifier('cascades/data/haarcascade_frontalface_alt2.xml')\n",
    "\n",
    "recognizer = cv2.face.LBPHFaceRecognizer_create()\n",
    "\n",
    "current_id = 0\n",
    "label_ids = {}\n",
    "y_labels = []\n",
    "x_train = []\n",
    "\n",
    "\n",
    "# nested for loops to retreive files\n",
    "for root,dirs,files in os.walk(img_dir):\n",
    "    \n",
    "    for file in files:\n",
    "        if  file.endswith(\"JPG\") or file.endswith(\"jpg\"):\n",
    "            \n",
    "            # path of each photo\n",
    "            path = os.path.join(root,file)\n",
    "            \n",
    "            # get names folders\n",
    "            label = os.path.basename(os.path.dirname(path))\n",
    "            \n",
    "            if not label in label_ids:\n",
    "                label_ids[label] = current_id\n",
    "                current_id +=1\n",
    "                \n",
    "            id_ = label_ids[label]\n",
    "#             print(label_ids)\n",
    "            \n",
    "            \n",
    "            #some number for variable\n",
    "            # verify this image, tune into NUMPY array\n",
    "            # turn image gray\n",
    "            pil_image = Image.open(path).convert(\"L\") # grayscale\n",
    "            image_array = np.array(pil_image,\"uint8\") # make into array\n",
    "            \n",
    "#             print(image_array)\n",
    "            faces = face_cascade.detectMultiScale(image_array, scaleFactor =1.1, minNeighbors =5)\n",
    "            \n",
    "            for (x,y,w,h) in faces:\n",
    "                roi = image_array[y:y+h, x:x+w]\n",
    "                x_train.append(roi)\n",
    "                y_labels.append(id_)\n",
    " \n",
    "\n",
    "\n",
    "with open(\"labels.pickle\",'wb') as f:\n",
    "    pickle.dump(label_ids,f)\n",
    "    \n",
    "recognizer.train(x_train,np.array(y_labels))\n",
    "recognizer.save(\"trainner.yml\")"
   ]
  }
 ],
 "metadata": {
  "kernelspec": {
   "display_name": "Python 3",
   "language": "python",
   "name": "python3"
  },
  "language_info": {
   "codemirror_mode": {
    "name": "ipython",
    "version": 3
   },
   "file_extension": ".py",
   "mimetype": "text/x-python",
   "name": "python",
   "nbconvert_exporter": "python",
   "pygments_lexer": "ipython3",
   "version": "3.6.12"
  }
 },
 "nbformat": 4,
 "nbformat_minor": 4
}
